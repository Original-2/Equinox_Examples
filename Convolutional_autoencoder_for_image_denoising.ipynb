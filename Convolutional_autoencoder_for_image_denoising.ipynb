{
  "cells": [
    {
      "cell_type": "markdown",
      "metadata": {
        "id": "view-in-github",
        "colab_type": "text"
      },
      "source": [
        "<a href=\"https://colab.research.google.com/github/Original-2/Equinox_Examples/blob/main/Convolutional_autoencoder_for_image_denoising.ipynb\" target=\"_parent\"><img src=\"https://colab.research.google.com/assets/colab-badge.svg\" alt=\"Open In Colab\"/></a>"
      ]
    },
    {
      "cell_type": "markdown",
      "metadata": {
        "id": "IE6hcdeVOshm"
      },
      "source": [
        "## Introduction\n",
        "\n",
        "This example demonstrates how to implement a deep convolutional autoencoder\n",
        "for image denoising, mapping noisy digits images from the MNIST dataset to\n",
        "clean digits images. This implementation is based on an original blog post\n",
        "titled [Building Autoencoders in Keras](https://blog.keras.io/building-autoencoders-in-keras.html)\n",
        "by [François Chollet](https://twitter.com/fchollet)."
      ]
    },
    {
      "cell_type": "markdown",
      "metadata": {
        "id": "s0s_0hauOshn"
      },
      "source": [
        "## Setup"
      ]
    },
    {
      "cell_type": "code",
      "execution_count": 1,
      "metadata": {
        "id": "EY6GJsnztILA",
        "colab": {
          "base_uri": "https://localhost:8080/"
        },
        "outputId": "8dcf5423-feee-4185-c636-1147fedb8f9d"
      },
      "outputs": [
        {
          "output_type": "stream",
          "name": "stdout",
          "text": [
            "Looking in indexes: https://pypi.org/simple, https://us-python.pkg.dev/colab-wheels/public/simple/\n",
            "Requirement already satisfied: equinox in /usr/local/lib/python3.7/dist-packages (0.5.3)\n",
            "Requirement already satisfied: jax>=0.3.4 in /usr/local/lib/python3.7/dist-packages (from equinox) (0.3.8)\n",
            "Requirement already satisfied: numpy>=1.19 in /usr/local/lib/python3.7/dist-packages (from jax>=0.3.4->equinox) (1.21.6)\n",
            "Requirement already satisfied: typing-extensions in /usr/local/lib/python3.7/dist-packages (from jax>=0.3.4->equinox) (4.1.1)\n",
            "Requirement already satisfied: opt-einsum in /usr/local/lib/python3.7/dist-packages (from jax>=0.3.4->equinox) (3.3.0)\n",
            "Requirement already satisfied: scipy>=1.2.1 in /usr/local/lib/python3.7/dist-packages (from jax>=0.3.4->equinox) (1.4.1)\n",
            "Requirement already satisfied: absl-py in /usr/local/lib/python3.7/dist-packages (from jax>=0.3.4->equinox) (1.1.0)\n",
            "Looking in indexes: https://pypi.org/simple, https://us-python.pkg.dev/colab-wheels/public/simple/\n",
            "Requirement already satisfied: optax in /usr/local/lib/python3.7/dist-packages (0.1.2)\n",
            "Requirement already satisfied: absl-py>=0.7.1 in /usr/local/lib/python3.7/dist-packages (from optax) (1.1.0)\n",
            "Requirement already satisfied: numpy>=1.18.0 in /usr/local/lib/python3.7/dist-packages (from optax) (1.21.6)\n",
            "Requirement already satisfied: jaxlib>=0.1.37 in /usr/local/lib/python3.7/dist-packages (from optax) (0.3.7+cuda11.cudnn805)\n",
            "Requirement already satisfied: chex>=0.0.4 in /usr/local/lib/python3.7/dist-packages (from optax) (0.1.3)\n",
            "Requirement already satisfied: jax>=0.1.55 in /usr/local/lib/python3.7/dist-packages (from optax) (0.3.8)\n",
            "Requirement already satisfied: typing-extensions>=3.10.0 in /usr/local/lib/python3.7/dist-packages (from optax) (4.1.1)\n",
            "Requirement already satisfied: dm-tree>=0.1.5 in /usr/local/lib/python3.7/dist-packages (from chex>=0.0.4->optax) (0.1.7)\n",
            "Requirement already satisfied: toolz>=0.9.0 in /usr/local/lib/python3.7/dist-packages (from chex>=0.0.4->optax) (0.11.2)\n",
            "Requirement already satisfied: opt-einsum in /usr/local/lib/python3.7/dist-packages (from jax>=0.1.55->optax) (3.3.0)\n",
            "Requirement already satisfied: scipy>=1.2.1 in /usr/local/lib/python3.7/dist-packages (from jax>=0.1.55->optax) (1.4.1)\n",
            "Requirement already satisfied: flatbuffers<3.0,>=1.12 in /usr/local/lib/python3.7/dist-packages (from jaxlib>=0.1.37->optax) (2.0)\n"
          ]
        }
      ],
      "source": [
        "!pip install equinox\n",
        "!pip install optax"
      ]
    },
    {
      "cell_type": "code",
      "execution_count": 2,
      "metadata": {
        "id": "A6TFvYlUOsho"
      },
      "outputs": [],
      "source": [
        "import jax.numpy as jnp\n",
        "import matplotlib.pyplot as plt\n",
        "import jax\n",
        "import equinox as eqx\n",
        "from tensorflow.keras.datasets import mnist\n",
        "import optax\n",
        "from tqdm import trange\n",
        "import tensorflow as tf\n",
        "\n",
        "def preprocess(array):\n",
        "    \"\"\"\n",
        "    Normalizes the supplied array and reshapes it into the appropriate format.\n",
        "    \"\"\"\n",
        "\n",
        "    array = array.astype(\"float32\") / 255.0\n",
        "    array = jnp.resize(jnp.array(array), (len(array),1,28,28,))\n",
        "    return array\n",
        "\n",
        "\n",
        "def noise(array, key):\n",
        "    \"\"\"\n",
        "    Adds random noise to each image in the supplied array.\n",
        "    \"\"\"\n",
        "\n",
        "    noise_factor = 0.4\n",
        "    noisy_array = array + noise_factor * jax.random.normal(key, array.shape)\n",
        "\n",
        "    return jnp.clip(noisy_array, 0.0, 1.0)\n",
        "\n",
        "\n",
        "def display(array1, array2, key):\n",
        "    \"\"\"\n",
        "    Displays ten random images from each one of the supplied arrays.\n",
        "    \"\"\"\n",
        "\n",
        "    n = 10\n",
        "\n",
        "    indices = jax.random.randint(key, (10,), 0, len(array1))\n",
        "    images1 = array1[indices, :]\n",
        "    images2 = array2[indices, :]\n",
        "\n",
        "    plt.figure(figsize=(20, 4))\n",
        "    for i, (image1, image2) in enumerate(zip(images1, images2)):\n",
        "        ax = plt.subplot(2, n, i + 1)\n",
        "        plt.imshow(image1.reshape(28, 28))\n",
        "        plt.gray()\n",
        "        ax.get_xaxis().set_visible(False)\n",
        "        ax.get_yaxis().set_visible(False)\n",
        "\n",
        "        ax = plt.subplot(2, n, i + 1 + n)\n",
        "        plt.imshow(image2.reshape(28, 28))\n",
        "        plt.gray()\n",
        "        ax.get_xaxis().set_visible(False)\n",
        "        ax.get_yaxis().set_visible(False)\n",
        "\n",
        "    plt.show()\n"
      ]
    },
    {
      "cell_type": "markdown",
      "metadata": {
        "id": "spEcegJDOshp"
      },
      "source": [
        "## Prepare the data"
      ]
    },
    {
      "cell_type": "code",
      "execution_count": 3,
      "metadata": {
        "id": "NbWnbWlnOshq",
        "colab": {
          "base_uri": "https://localhost:8080/",
          "height": 248
        },
        "outputId": "add6945a-e3bf-435d-e588-eaa4dfba6281"
      },
      "outputs": [
        {
          "output_type": "display_data",
          "data": {
            "text/plain": [
              "<Figure size 1440x288 with 20 Axes>"
            ],
            "image/png": "[encoded data removed]"
          },
          "metadata": {
            "needs_background": "light"
          }
        }
      ],
      "source": [
        "key = jax.random.PRNGKey(1234)\n",
        "key, noise1, noise2, display1 = jax.random.split(key, 4)\n",
        "\n",
        "# Since we only need images from the dataset to encode and decode, we\n",
        "# won't use the labels.\n",
        "(train_data, _), (test_data, _) = mnist.load_data()\n",
        "\n",
        "# Normalize and reshape the data\n",
        "train_data = jnp.array(preprocess(train_data))\n",
        "test_data = jnp.array(preprocess(test_data))\n",
        "\n",
        "# Create a copy of the data with added noise\n",
        "noisy_train_data = jnp.array(noise(train_data, noise1))\n",
        "noisy_test_data = jnp.array(noise(test_data, noise2))\n",
        "\n",
        "# Display the train data and a version of it with added noise\n",
        "display(train_data, noisy_train_data, display1)\n",
        "\n",
        "del noise1, noise2, display1"
      ]
    },
    {
      "cell_type": "markdown",
      "metadata": {
        "id": "0w001kxJOshq"
      },
      "source": [
        "## Build the autoencoder\n",
        "\n",
        "We are going to use the Functional API to build our convolutional autoencoder."
      ]
    },
    {
      "cell_type": "code",
      "execution_count": 4,
      "metadata": {
        "id": "p2UEs-VVOshr"
      },
      "outputs": [],
      "source": [
        "class autoencoder(eqx.Module):\n",
        "    encoder_conv: list\n",
        "    decoder_transpose_conv: list\n",
        "    decoder_conv: eqx.nn.Conv2d\n",
        "\n",
        "    def __init__(\n",
        "        self,\n",
        "        *,\n",
        "        key,\n",
        "    ):\n",
        "        key1, key2, key3 = jax.random.split(key, 3)\n",
        "\n",
        "        self.encoder_conv = [eqx.nn.Conv2d(in_channels=1, out_channels=32, kernel_size=3, padding=1, key=key1),\n",
        "                      eqx.nn.Conv2d(in_channels=32, out_channels=32, kernel_size=3, padding=1, key=key2)]\n",
        "\n",
        "        self.decoder_transpose_conv = [eqx.nn.ConvTranspose(2, in_channels=32, out_channels=32, kernel_size=2, stride=2, padding=0, key=key1),\n",
        "                      eqx.nn.ConvTranspose(2, in_channels=32, out_channels=32, kernel_size=2, stride=2, padding=0, key=key1)]\n",
        "\n",
        "        self.decoder_conv = eqx.nn.Conv2d(in_channels=32, out_channels=1, kernel_size=3, padding=1, key=key1)\n",
        "\n",
        "\n",
        "    def __call__(self, x):\n",
        "        x = eqx.nn.MaxPool2D((2,2),2)(jax.nn.relu(self.encoder_conv[0](x)))\n",
        "        x = eqx.nn.MaxPool2D((2,2),2)(jax.nn.relu(self.encoder_conv[1](x)))\n",
        "\n",
        "        x = jax.nn.relu(self.decoder_transpose_conv[0](x))\n",
        "        x = jax.nn.relu(self.decoder_transpose_conv[1](x))\n",
        "\n",
        "        x = jax.nn.sigmoid(self.decoder_conv(x))\n",
        "\n",
        "        return x"
      ]
    },
    {
      "cell_type": "markdown",
      "metadata": {
        "id": "YqUD7EM8Oshs"
      },
      "source": [
        "Now we can train our autoencoder using `train_data` as both our input data\n",
        "and target. Notice we are setting up the validation data using the same\n",
        "format."
      ]
    },
    {
      "cell_type": "code",
      "execution_count": 5,
      "metadata": {
        "id": "koNh317Ba5eS"
      },
      "outputs": [],
      "source": [
        "def main(\n",
        "    x_train,\n",
        "    y_train,\n",
        "    x_test,\n",
        "    y_test,\n",
        "    key,\n",
        "    batch_size=128,\n",
        "    learning_rate=0.001,\n",
        "    steps=60000//128,\n",
        "    val_steps=10000//128,\n",
        "    epochs=1#50\n",
        "):\n",
        "    key, temp = jax.random.split(key, 2)\n",
        "    model = autoencoder(key=temp)\n",
        "\n",
        "    @eqx.filter_value_and_grad\n",
        "    def compute_loss(model, x, y):\n",
        "        pred_y = jax.vmap(model)(x)\n",
        "        # Trains with respect to binary cross-entropy\n",
        "        return -jnp.mean(y * jnp.log(pred_y) + (1 - y) * jnp.log(1 - pred_y))\n",
        "\n",
        "    @eqx.filter_jit\n",
        "    def make_step(model, x, y, opt_state):\n",
        "        loss, grads = compute_loss(model, x, y)\n",
        "        updates, opt_state = optim.update(grads, opt_state)\n",
        "        model = eqx.apply_updates(model, updates)\n",
        "        return loss, model, opt_state\n",
        "\n",
        "    def compute_metrics(model, x, y):\n",
        "        predy = jax.vmap(model)(x)    \n",
        "        losses = -jnp.mean(y * jnp.log(predy) + (1 - y) * jnp.log(1 - predy))\n",
        "        return losses\n",
        "\n",
        "    optim = optax.adam(learning_rate)\n",
        "    opt_state = optim.init(model)\n",
        "\n",
        "    for epoch in range(epochs):\n",
        "        bar = trange(steps)\n",
        "        for i in bar:\n",
        "            bar.set_description(f\"epoch {epoch+1} of {epochs}\")\n",
        "            start = i*batch_size\n",
        "            stop = i*batch_size+batch_size\n",
        "\n",
        "            loss, model, opt_state = make_step(model, x_train[start:stop], y_train[start:stop], opt_state)\n",
        "            loss = loss.item()\n",
        "            bar.set_postfix(loss=loss)\n",
        "\n",
        "        ### compute metrics ###\n",
        "\n",
        "        metrics = []\n",
        "\n",
        "        for i in range(val_steps):\n",
        "          start = i*batch_size\n",
        "          stop = i*batch_size+batch_size\n",
        "\n",
        "          l = compute_metrics(model, x_test[start:stop], y_test[start:stop])\n",
        "\n",
        "          metrics.append(l)\n",
        "\n",
        "        print(\"loss: \" + str(jnp.mean(jnp.array(metrics))))\n",
        "    return model"
      ]
    },
    {
      "cell_type": "code",
      "execution_count": 6,
      "metadata": {
        "colab": {
          "base_uri": "https://localhost:8080/"
        },
        "id": "3fROcvGScvV5",
        "outputId": "264dd721-a752-4375-f9e7-a41b547211f9"
      },
      "outputs": [
        {
          "output_type": "stream",
          "name": "stderr",
          "text": [
            "epoch 1 of 10: 100%|██████████| 468/468 [00:15<00:00, 30.67it/s, loss=0.0765]\n"
          ]
        },
        {
          "output_type": "stream",
          "name": "stdout",
          "text": [
            "loss: 0.07758693\n"
          ]
        },
        {
          "output_type": "stream",
          "name": "stderr",
          "text": [
            "epoch 2 of 10: 100%|██████████| 468/468 [00:09<00:00, 50.00it/s, loss=0.0724]\n"
          ]
        },
        {
          "output_type": "stream",
          "name": "stdout",
          "text": [
            "loss: 0.072731204\n"
          ]
        },
        {
          "output_type": "stream",
          "name": "stderr",
          "text": [
            "epoch 3 of 10: 100%|██████████| 468/468 [00:09<00:00, 50.14it/s, loss=0.071]\n"
          ]
        },
        {
          "output_type": "stream",
          "name": "stdout",
          "text": [
            "loss: 0.070968725\n"
          ]
        },
        {
          "output_type": "stream",
          "name": "stderr",
          "text": [
            "epoch 4 of 10: 100%|██████████| 468/468 [00:09<00:00, 49.74it/s, loss=0.0695]\n"
          ]
        },
        {
          "output_type": "stream",
          "name": "stdout",
          "text": [
            "loss: 0.06999859\n"
          ]
        },
        {
          "output_type": "stream",
          "name": "stderr",
          "text": [
            "epoch 5 of 10: 100%|██████████| 468/468 [00:09<00:00, 50.52it/s, loss=0.0686]\n"
          ]
        },
        {
          "output_type": "stream",
          "name": "stdout",
          "text": [
            "loss: 0.06905207\n"
          ]
        },
        {
          "output_type": "stream",
          "name": "stderr",
          "text": [
            "epoch 6 of 10: 100%|██████████| 468/468 [00:09<00:00, 47.90it/s, loss=0.068]\n"
          ]
        },
        {
          "output_type": "stream",
          "name": "stdout",
          "text": [
            "loss: 0.06832803\n"
          ]
        },
        {
          "output_type": "stream",
          "name": "stderr",
          "text": [
            "epoch 7 of 10: 100%|██████████| 468/468 [00:09<00:00, 49.46it/s, loss=0.0675]\n"
          ]
        },
        {
          "output_type": "stream",
          "name": "stdout",
          "text": [
            "loss: 0.067836575\n"
          ]
        },
        {
          "output_type": "stream",
          "name": "stderr",
          "text": [
            "epoch 8 of 10: 100%|██████████| 468/468 [00:09<00:00, 49.45it/s, loss=0.0671]\n"
          ]
        },
        {
          "output_type": "stream",
          "name": "stdout",
          "text": [
            "loss: 0.06748144\n"
          ]
        },
        {
          "output_type": "stream",
          "name": "stderr",
          "text": [
            "epoch 9 of 10: 100%|██████████| 468/468 [00:09<00:00, 50.62it/s, loss=0.0668]\n"
          ]
        },
        {
          "output_type": "stream",
          "name": "stdout",
          "text": [
            "loss: 0.06721795\n"
          ]
        },
        {
          "output_type": "stream",
          "name": "stderr",
          "text": [
            "epoch 10 of 10: 100%|██████████| 468/468 [00:09<00:00, 50.64it/s, loss=0.0665]\n"
          ]
        },
        {
          "output_type": "stream",
          "name": "stdout",
          "text": [
            "loss: 0.066950165\n"
          ]
        }
      ],
      "source": [
        "key, train = jax.random.split(key, 2)\n",
        "\n",
        "model = main(x_train=train_data,\n",
        "    y_train=train_data,\n",
        "    x_test=test_data,\n",
        "    y_test=test_data,\n",
        "    key=train,\n",
        "    epochs=10)\n",
        "\n",
        "del train"
      ]
    },
    {
      "cell_type": "markdown",
      "metadata": {
        "id": "Ul-_iyL8Osht"
      },
      "source": [
        "Let's predict on our test dataset and display the original image together with\n",
        "the prediction from our autoencoder.\n",
        "\n",
        "Notice how the predictions are pretty close to the original images, although\n",
        "not quite the same."
      ]
    },
    {
      "cell_type": "code",
      "execution_count": 7,
      "metadata": {
        "id": "HzasjSMdOsht",
        "colab": {
          "base_uri": "https://localhost:8080/",
          "height": 248
        },
        "outputId": "71e83cc4-6dda-4486-da39-da10ffb94852"
      },
      "outputs": [
        {
          "output_type": "display_data",
          "data": {
            "text/plain": [
              "<Figure size 1440x288 with 20 Axes>"
            ],
            "image/png": "[encoded data removed]"
          },
          "metadata": {
            "needs_background": "light"
          }
        }
      ],
      "source": [
        "key, displaykey = jax.random.split(key, 2)\n",
        "\n",
        "predictions = jnp.array(jax.vmap(model)(test_data))\n",
        "display(test_data, predictions, displaykey)\n",
        "\n",
        "del displaykey"
      ]
    },
    {
      "cell_type": "markdown",
      "metadata": {
        "id": "IyYrVfpaOsht"
      },
      "source": [
        "Now that we know that our autoencoder works, let's retrain it using the noisy\n",
        "data as our input and the clean data as our target. We want our autoencoder to\n",
        "learn how to denoise the images."
      ]
    },
    {
      "cell_type": "code",
      "execution_count": 8,
      "metadata": {
        "id": "K2bVBZCBOsht",
        "colab": {
          "base_uri": "https://localhost:8080/"
        },
        "outputId": "5193570b-2ae6-4b3c-d039-0945cf4c4ad5"
      },
      "outputs": [
        {
          "output_type": "stream",
          "name": "stderr",
          "text": [
            "epoch 1 of 20: 100%|██████████| 468/468 [00:09<00:00, 48.83it/s, loss=0.107]\n"
          ]
        },
        {
          "output_type": "stream",
          "name": "stdout",
          "text": [
            "loss: 0.11039352\n"
          ]
        },
        {
          "output_type": "stream",
          "name": "stderr",
          "text": [
            "epoch 2 of 20: 100%|██████████| 468/468 [00:09<00:00, 49.17it/s, loss=0.0994]\n"
          ]
        },
        {
          "output_type": "stream",
          "name": "stdout",
          "text": [
            "loss: 0.101649776\n"
          ]
        },
        {
          "output_type": "stream",
          "name": "stderr",
          "text": [
            "epoch 3 of 20: 100%|██████████| 468/468 [00:09<00:00, 49.46it/s, loss=0.0966]\n"
          ]
        },
        {
          "output_type": "stream",
          "name": "stdout",
          "text": [
            "loss: 0.09887238\n"
          ]
        },
        {
          "output_type": "stream",
          "name": "stderr",
          "text": [
            "epoch 4 of 20: 100%|██████████| 468/468 [00:09<00:00, 50.36it/s, loss=0.0948]\n"
          ]
        },
        {
          "output_type": "stream",
          "name": "stdout",
          "text": [
            "loss: 0.0970087\n"
          ]
        },
        {
          "output_type": "stream",
          "name": "stderr",
          "text": [
            "epoch 5 of 20: 100%|██████████| 468/468 [00:11<00:00, 39.41it/s, loss=0.0937]\n"
          ]
        },
        {
          "output_type": "stream",
          "name": "stdout",
          "text": [
            "loss: 0.095861025\n"
          ]
        },
        {
          "output_type": "stream",
          "name": "stderr",
          "text": [
            "epoch 6 of 20: 100%|██████████| 468/468 [00:09<00:00, 48.95it/s, loss=0.093]\n"
          ]
        },
        {
          "output_type": "stream",
          "name": "stdout",
          "text": [
            "loss: 0.09508814\n"
          ]
        },
        {
          "output_type": "stream",
          "name": "stderr",
          "text": [
            "epoch 7 of 20: 100%|██████████| 468/468 [00:09<00:00, 50.32it/s, loss=0.0924]\n"
          ]
        },
        {
          "output_type": "stream",
          "name": "stdout",
          "text": [
            "loss: 0.09453367\n"
          ]
        },
        {
          "output_type": "stream",
          "name": "stderr",
          "text": [
            "epoch 8 of 20: 100%|██████████| 468/468 [00:09<00:00, 50.49it/s, loss=0.092]\n"
          ]
        },
        {
          "output_type": "stream",
          "name": "stdout",
          "text": [
            "loss: 0.094064176\n"
          ]
        },
        {
          "output_type": "stream",
          "name": "stderr",
          "text": [
            "epoch 9 of 20: 100%|██████████| 468/468 [00:09<00:00, 49.96it/s, loss=0.0915]\n"
          ]
        },
        {
          "output_type": "stream",
          "name": "stdout",
          "text": [
            "loss: 0.093682915\n"
          ]
        },
        {
          "output_type": "stream",
          "name": "stderr",
          "text": [
            "epoch 10 of 20: 100%|██████████| 468/468 [00:09<00:00, 50.41it/s, loss=0.0911]\n"
          ]
        },
        {
          "output_type": "stream",
          "name": "stdout",
          "text": [
            "loss: 0.09331011\n"
          ]
        },
        {
          "output_type": "stream",
          "name": "stderr",
          "text": [
            "epoch 11 of 20: 100%|██████████| 468/468 [00:09<00:00, 49.60it/s, loss=0.0908]\n"
          ]
        },
        {
          "output_type": "stream",
          "name": "stdout",
          "text": [
            "loss: 0.09301062\n"
          ]
        },
        {
          "output_type": "stream",
          "name": "stderr",
          "text": [
            "epoch 12 of 20: 100%|██████████| 468/468 [00:09<00:00, 49.89it/s, loss=0.0905]\n"
          ]
        },
        {
          "output_type": "stream",
          "name": "stdout",
          "text": [
            "loss: 0.09274305\n"
          ]
        },
        {
          "output_type": "stream",
          "name": "stderr",
          "text": [
            "epoch 13 of 20: 100%|██████████| 468/468 [00:09<00:00, 47.46it/s, loss=0.0903]\n"
          ]
        },
        {
          "output_type": "stream",
          "name": "stdout",
          "text": [
            "loss: 0.09249201\n"
          ]
        },
        {
          "output_type": "stream",
          "name": "stderr",
          "text": [
            "epoch 14 of 20: 100%|██████████| 468/468 [00:09<00:00, 50.57it/s, loss=0.09]\n"
          ]
        },
        {
          "output_type": "stream",
          "name": "stdout",
          "text": [
            "loss: 0.09224365\n"
          ]
        },
        {
          "output_type": "stream",
          "name": "stderr",
          "text": [
            "epoch 15 of 20: 100%|██████████| 468/468 [00:09<00:00, 49.84it/s, loss=0.0898]\n"
          ]
        },
        {
          "output_type": "stream",
          "name": "stdout",
          "text": [
            "loss: 0.09201979\n"
          ]
        },
        {
          "output_type": "stream",
          "name": "stderr",
          "text": [
            "epoch 16 of 20: 100%|██████████| 468/468 [00:09<00:00, 49.78it/s, loss=0.0896]\n"
          ]
        },
        {
          "output_type": "stream",
          "name": "stdout",
          "text": [
            "loss: 0.091826305\n"
          ]
        },
        {
          "output_type": "stream",
          "name": "stderr",
          "text": [
            "epoch 17 of 20: 100%|██████████| 468/468 [00:09<00:00, 49.84it/s, loss=0.0894]\n"
          ]
        },
        {
          "output_type": "stream",
          "name": "stdout",
          "text": [
            "loss: 0.091636844\n"
          ]
        },
        {
          "output_type": "stream",
          "name": "stderr",
          "text": [
            "epoch 18 of 20: 100%|██████████| 468/468 [00:09<00:00, 50.01it/s, loss=0.0892]\n"
          ]
        },
        {
          "output_type": "stream",
          "name": "stdout",
          "text": [
            "loss: 0.09146035\n"
          ]
        },
        {
          "output_type": "stream",
          "name": "stderr",
          "text": [
            "epoch 19 of 20: 100%|██████████| 468/468 [00:09<00:00, 49.32it/s, loss=0.0891]\n"
          ]
        },
        {
          "output_type": "stream",
          "name": "stdout",
          "text": [
            "loss: 0.09129881\n"
          ]
        },
        {
          "output_type": "stream",
          "name": "stderr",
          "text": [
            "epoch 20 of 20: 100%|██████████| 468/468 [00:09<00:00, 50.31it/s, loss=0.0889]\n"
          ]
        },
        {
          "output_type": "stream",
          "name": "stdout",
          "text": [
            "loss: 0.09115345\n"
          ]
        }
      ],
      "source": [
        "key, train = jax.random.split(key, 2)\n",
        "\n",
        "model = main(x_train=noisy_train_data,\n",
        "    y_train=train_data,\n",
        "    x_test=noisy_test_data,\n",
        "    y_test=test_data,\n",
        "    key=train,\n",
        "    epochs=20)\n",
        "\n",
        "del train"
      ]
    },
    {
      "cell_type": "markdown",
      "metadata": {
        "id": "L7Phay3zOshu"
      },
      "source": [
        "Let's now predict on the noisy data and display the results of our autoencoder.\n",
        "\n",
        "Notice how the autoencoder does an amazing job at removing the noise from the\n",
        "input images, however small details are lost."
      ]
    },
    {
      "cell_type": "code",
      "execution_count": 11,
      "metadata": {
        "id": "vJFiBR8fOshu",
        "colab": {
          "base_uri": "https://localhost:8080/",
          "height": 248
        },
        "outputId": "9fd687a4-98c9-4adc-fcfe-2814383c948a"
      },
      "outputs": [
        {
          "output_type": "display_data",
          "data": {
            "text/plain": [
              "<Figure size 1440x288 with 20 Axes>"
            ],
            "image/png": "[encoded data removed]"
          },
          "metadata": {
            "needs_background": "light"
          }
        }
      ],
      "source": [
        "key, displaykey = jax.random.split(key, 2)\n",
        "\n",
        "predictions = jnp.array(jax.vmap(model)(noisy_test_data))\n",
        "display(noisy_test_data, predictions, displaykey)\n",
        "\n",
        "del displaykey"
      ]
    }
  ],
  "metadata": {
    "accelerator": "GPU",
    "colab": {
      "collapsed_sections": [],
      "name": "Convolutional_autoencoder_for_image_denoising(1).ipynb",
      "provenance": [],
      "toc_visible": true,
      "include_colab_link": true
    },
    "gpuClass": "standard",
    "kernelspec": {
      "display_name": "Python 3 (ipykernel)",
      "language": "python",
      "name": "python3"
    },
    "language_info": {
      "codemirror_mode": {
        "name": "ipython",
        "version": 3
      },
      "file_extension": ".py",
      "mimetype": "text/x-python",
      "name": "python",
      "nbconvert_exporter": "python",
      "pygments_lexer": "ipython3",
      "version": "3.10.5"
    }
  },
  "nbformat": 4,
  "nbformat_minor": 0
}